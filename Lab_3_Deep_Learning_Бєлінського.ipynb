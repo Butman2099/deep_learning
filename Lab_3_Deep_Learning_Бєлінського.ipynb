{
 "cells": [
  {
   "cell_type": "markdown",
   "id": "4dba4d46",
   "metadata": {},
   "source": [
    "# Лабораторна робота №3 з глибинного навчання студента групи Ім-17 Бєлінського Андрія"
   ]
  },
  {
   "cell_type": "code",
   "execution_count": 55,
   "id": "eb2ea995",
   "metadata": {},
   "outputs": [],
   "source": [
    "import numpy as np\n",
    "import matplotlib.pyplot as plt"
   ]
  },
  {
   "cell_type": "code",
   "execution_count": 56,
   "id": "be2a944f",
   "metadata": {},
   "outputs": [],
   "source": [
    "def sign_theta(U_inp_A, theta):\n",
    "    out = np.zeros((U_inp_A.shape[0], U_inp_A.shape[1]))\n",
    "    out[U_inp_A >= theta] = 1 \n",
    "    out[U_inp_A < theta] = 0\n",
    "    \n",
    "    return out\n",
    "\n",
    "def out_S(inp_lett):\n",
    "    out = np.zeros((inp_lett.shape[0], inp_lett.shape[1]))\n",
    "    out[inp_lett == 1] = 1 \n",
    "    out[inp_lett == -1] = 0\n",
    "    \n",
    "    return out\n",
    "\n",
    "def out_R(U_inp_R, theta):\n",
    "    if U_inp_R.shape == (1,):\n",
    "        if U_inp_R >= theta:\n",
    "            return 1\n",
    "        else:\n",
    "            return -1\n",
    "    else:\n",
    "        out = np.zeros((U_inp_R.shape[0], U_inp_R.shape[1]))\n",
    "        out[U_inp_R >= theta] = 1 \n",
    "        out[U_inp_R < theta] = -1\n",
    "    \n",
    "        return out"
   ]
  },
  {
   "cell_type": "markdown",
   "id": "c54a1441",
   "metadata": {},
   "source": [
    "### Налаштуємо перцептрон на роспізнавання літер А та В"
   ]
  },
  {
   "cell_type": "code",
   "execution_count": 181,
   "id": "b55f508e",
   "metadata": {},
   "outputs": [],
   "source": [
    "letters = np.array([\n",
    "    [-1, -1, 1, -1, -1, -1, 1, -1, 1, -1, 1, -1, -1, -1, 1, 1, 1, 1, 1, 1, 1, -1, -1, -1, 1], \n",
    "    [1, 1, 1, 1, -1, 1, -1, -1, -1, 1, 1, 1, 1, 1, -1, 1, -1, -1, -1, 1, 1, 1, 1, 1, -1]\n",
    "])"
   ]
  },
  {
   "cell_type": "code",
   "execution_count": 58,
   "id": "d15c6fea",
   "metadata": {},
   "outputs": [
    {
     "data": {
      "image/png": "[encoded data removed]",
      "text/plain": [
       "<Figure size 432x288 with 1 Axes>"
      ]
     },
     "metadata": {
      "needs_background": "light"
     },
     "output_type": "display_data"
    },
    {
     "data": {
      "image/png": "[encoded data removed]",
      "text/plain": [
       "<Figure size 432x288 with 1 Axes>"
      ]
     },
     "metadata": {
      "needs_background": "light"
     },
     "output_type": "display_data"
    }
   ],
   "source": [
    "for i in range(letters.shape[0]):\n",
    "    plt.imshow(letters[i].reshape((5, 5)), interpolation='nearest')\n",
    "    plt.show()"
   ]
  },
  {
   "cell_type": "markdown",
   "id": "d9668d9d",
   "metadata": {},
   "source": [
    "### Вимагатимемо від мережі, щоб при представленні зображення букви А на виході R-елемента бува сигнал \"1\", при появі другого зображення - сигнал \"-1\"."
   ]
  },
  {
   "cell_type": "code",
   "execution_count": 208,
   "id": "4767213f",
   "metadata": {},
   "outputs": [],
   "source": [
    "labels = np.array([[1],\n",
    "                  [-1]])"
   ]
  },
  {
   "cell_type": "markdown",
   "id": "41a94bd3",
   "metadata": {},
   "source": [
    "## Ваги $w^{1}_{ij}$ зв'язків перцептрона між S- та A елементами\n",
    "## Для даної задачі використаємо 6 A-елементів"
   ]
  },
  {
   "cell_type": "markdown",
   "id": "02437353",
   "metadata": {},
   "source": [
    "### Випадковим чином"
   ]
  },
  {
   "cell_type": "code",
   "execution_count": 159,
   "id": "af8f8554",
   "metadata": {},
   "outputs": [
    {
     "data": {
      "text/plain": [
       "array([[0.02496499, 0.49812047, 0.51988947, 0.1753371 , 0.3137243 ,\n",
       "        0.16669571, 0.16260644, 0.78877732, 0.47045048, 0.00185582,\n",
       "        0.98010376, 0.08825511, 0.07699937, 0.60555824, 0.25482464,\n",
       "        0.80655716, 0.69420391, 0.50590699, 0.04360393, 0.69837036,\n",
       "        0.35835856, 0.07654744, 0.70417425, 0.89288361, 0.16929829],\n",
       "       [0.72212883, 0.32586249, 0.42781445, 0.41262245, 0.37805521,\n",
       "        0.15469888, 0.30604738, 0.47887528, 0.68590352, 0.97519903,\n",
       "        0.17171021, 0.15293825, 0.86726846, 0.40944839, 0.56108351,\n",
       "        0.37479801, 0.55738393, 0.05005078, 0.91676991, 0.96403375,\n",
       "        0.97125412, 0.28926607, 0.8019715 , 0.02592639, 0.43599283],\n",
       "       [0.89011509, 0.55815508, 0.91123787, 0.22130288, 0.69507015,\n",
       "        0.52746873, 0.10706692, 0.88597515, 0.78021802, 0.0412088 ,\n",
       "        0.19774185, 0.47683238, 0.48075275, 0.39329124, 0.60356517,\n",
       "        0.65290537, 0.33969453, 0.23322257, 0.51399825, 0.04403014,\n",
       "        0.56362384, 0.86579256, 0.74724533, 0.908241  , 0.60485381],\n",
       "       [0.40953696, 0.56530944, 0.92574359, 0.27086634, 0.96535353,\n",
       "        0.71034058, 0.2407078 , 0.36253235, 0.24820772, 0.50687392,\n",
       "        0.66023173, 0.71169075, 0.15955281, 0.18455441, 0.65727878,\n",
       "        0.88987381, 0.53082947, 0.26159848, 0.34933457, 0.39798404,\n",
       "        0.75550809, 0.84678972, 0.58777885, 0.84681002, 0.54447973],\n",
       "       [0.93553612, 0.87219669, 0.47897123, 0.46523473, 0.30390029,\n",
       "        0.71157442, 0.36893007, 0.58950712, 0.63771684, 0.56671791,\n",
       "        0.80611723, 0.21266755, 0.77086007, 0.46661037, 0.17329066,\n",
       "        0.75022107, 0.7647045 , 0.94395909, 0.79072314, 0.45394185,\n",
       "        0.57615678, 0.26663879, 0.69732547, 0.88938354, 0.27476265],\n",
       "       [0.37181657, 0.05172584, 0.04633333, 0.19798325, 0.83916398,\n",
       "        0.34641901, 0.19742376, 0.96017506, 0.91755846, 0.76103775,\n",
       "        0.14046631, 0.51849763, 0.45310174, 0.64565231, 0.4441309 ,\n",
       "        0.98490652, 0.39011258, 0.04636631, 0.20498265, 0.87724332,\n",
       "        0.83549412, 0.60602203, 0.9272641 , 0.86771618, 0.00562046]])"
      ]
     },
     "execution_count": 159,
     "metadata": {},
     "output_type": "execute_result"
    }
   ],
   "source": [
    "w_1 = np.random.rand(6, letters.shape[1])\n",
    "w_1"
   ]
  },
  {
   "cell_type": "markdown",
   "id": "a3a33fe2",
   "metadata": {},
   "source": [
    "### Власні значення"
   ]
  },
  {
   "cell_type": "code",
   "execution_count": 212,
   "id": "bf6a3b9c",
   "metadata": {},
   "outputs": [
    {
     "data": {
      "text/plain": [
       "array([[0.02496499, 0.49812047, 0.51988947, 0.1753371 , 0.3137243 ,\n",
       "        0.16669571, 0.16260644, 0.78877732, 0.47045048, 0.00185582,\n",
       "        0.98010376, 0.08825511, 0.07699937, 0.60555824, 0.25482464,\n",
       "        0.80655716, 0.69420391, 0.50590699, 0.04360393, 0.69837036,\n",
       "        0.35835856, 0.07654744, 0.70417425, 0.89288361, 0.16929829],\n",
       "       [0.72212883, 0.32586249, 0.42781445, 0.41262245, 0.37805521,\n",
       "        0.15469888, 0.30604738, 0.47887528, 0.68590352, 0.97519903,\n",
       "        0.17171021, 0.15293825, 0.86726846, 0.40944839, 0.56108351,\n",
       "        0.37479801, 0.55738393, 0.05005078, 0.91676991, 0.96403375,\n",
       "        0.97125412, 0.28926607, 0.8019715 , 0.02592639, 0.43599283],\n",
       "       [0.89011509, 0.55815508, 0.91123787, 0.22130288, 0.69507015,\n",
       "        0.52746873, 0.10706692, 0.88597515, 0.78021802, 0.0412088 ,\n",
       "        0.19774185, 0.47683238, 0.48075275, 0.39329124, 0.60356517,\n",
       "        0.65290537, 0.33969453, 0.23322257, 0.51399825, 0.04403014,\n",
       "        0.56362384, 0.86579256, 0.74724533, 0.908241  , 0.60485381],\n",
       "       [0.40953696, 0.56530944, 0.92574359, 0.27086634, 0.96535353,\n",
       "        0.71034058, 0.2407078 , 0.36253235, 0.24820772, 0.50687392,\n",
       "        0.66023173, 0.71169075, 0.15955281, 0.18455441, 0.65727878,\n",
       "        0.88987381, 0.53082947, 0.26159848, 0.34933457, 0.39798404,\n",
       "        0.75550809, 0.84678972, 0.58777885, 0.84681002, 0.54447973],\n",
       "       [0.93553612, 0.87219669, 0.47897123, 0.46523473, 0.30390029,\n",
       "        0.71157442, 0.36893007, 0.58950712, 0.63771684, 0.56671791,\n",
       "        0.80611723, 0.21266755, 0.77086007, 0.46661037, 0.17329066,\n",
       "        0.75022107, 0.7647045 , 0.94395909, 0.79072314, 0.45394185,\n",
       "        0.57615678, 0.26663879, 0.69732547, 0.88938354, 0.27476265],\n",
       "       [0.37181657, 0.05172584, 0.04633333, 0.19798325, 0.83916398,\n",
       "        0.34641901, 0.19742376, 0.96017506, 0.91755846, 0.76103775,\n",
       "        0.14046631, 0.51849763, 0.45310174, 0.64565231, 0.4441309 ,\n",
       "        0.98490652, 0.39011258, 0.04636631, 0.20498265, 0.87724332,\n",
       "        0.83549412, 0.60602203, 0.9272641 , 0.86771618, 0.00562046]])"
      ]
     },
     "execution_count": 212,
     "metadata": {},
     "output_type": "execute_result"
    }
   ],
   "source": [
    "w_1 = np.array([[0.02496499, 0.49812047, 0.51988947, 0.1753371 , 0.3137243 ,\n",
    "        0.16669571, 0.16260644, 0.78877732, 0.47045048, 0.00185582,\n",
    "        0.98010376, 0.08825511, 0.07699937, 0.60555824, 0.25482464,\n",
    "        0.80655716, 0.69420391, 0.50590699, 0.04360393, 0.69837036,\n",
    "        0.35835856, 0.07654744, 0.70417425, 0.89288361, 0.16929829],\n",
    "       [0.72212883, 0.32586249, 0.42781445, 0.41262245, 0.37805521,\n",
    "        0.15469888, 0.30604738, 0.47887528, 0.68590352, 0.97519903,\n",
    "        0.17171021, 0.15293825, 0.86726846, 0.40944839, 0.56108351,\n",
    "        0.37479801, 0.55738393, 0.05005078, 0.91676991, 0.96403375,\n",
    "        0.97125412, 0.28926607, 0.8019715 , 0.02592639, 0.43599283],\n",
    "       [0.89011509, 0.55815508, 0.91123787, 0.22130288, 0.69507015,\n",
    "        0.52746873, 0.10706692, 0.88597515, 0.78021802, 0.0412088 ,\n",
    "        0.19774185, 0.47683238, 0.48075275, 0.39329124, 0.60356517,\n",
    "        0.65290537, 0.33969453, 0.23322257, 0.51399825, 0.04403014,\n",
    "        0.56362384, 0.86579256, 0.74724533, 0.908241  , 0.60485381],\n",
    "       [0.40953696, 0.56530944, 0.92574359, 0.27086634, 0.96535353,\n",
    "        0.71034058, 0.2407078 , 0.36253235, 0.24820772, 0.50687392,\n",
    "        0.66023173, 0.71169075, 0.15955281, 0.18455441, 0.65727878,\n",
    "        0.88987381, 0.53082947, 0.26159848, 0.34933457, 0.39798404,\n",
    "        0.75550809, 0.84678972, 0.58777885, 0.84681002, 0.54447973],\n",
    "       [0.93553612, 0.87219669, 0.47897123, 0.46523473, 0.30390029,\n",
    "        0.71157442, 0.36893007, 0.58950712, 0.63771684, 0.56671791,\n",
    "        0.80611723, 0.21266755, 0.77086007, 0.46661037, 0.17329066,\n",
    "        0.75022107, 0.7647045 , 0.94395909, 0.79072314, 0.45394185,\n",
    "        0.57615678, 0.26663879, 0.69732547, 0.88938354, 0.27476265],\n",
    "       [0.37181657, 0.05172584, 0.04633333, 0.19798325, 0.83916398,\n",
    "        0.34641901, 0.19742376, 0.96017506, 0.91755846, 0.76103775,\n",
    "        0.14046631, 0.51849763, 0.45310174, 0.64565231, 0.4441309 ,\n",
    "        0.98490652, 0.39011258, 0.04636631, 0.20498265, 0.87724332,\n",
    "        0.83549412, 0.60602203, 0.9272641 , 0.86771618, 0.00562046]])\n",
    "\n",
    "w_1"
   ]
  },
  {
   "cell_type": "markdown",
   "id": "122d5599",
   "metadata": {},
   "source": [
    "## Ваги $w^{2}_{k}$ зв'язків перцептрона між R- та A елементами"
   ]
  },
  {
   "cell_type": "markdown",
   "id": "1bb27ffb",
   "metadata": {},
   "source": [
    "### Випадковим чином"
   ]
  },
  {
   "cell_type": "code",
   "execution_count": 160,
   "id": "6d99b8bd",
   "metadata": {},
   "outputs": [
    {
     "data": {
      "text/plain": [
       "array([[0.68161656, 0.076982  , 0.36931696, 0.7775845 , 0.73257279,\n",
       "        0.3194842 ]])"
      ]
     },
     "execution_count": 160,
     "metadata": {},
     "output_type": "execute_result"
    }
   ],
   "source": [
    "w_2 = np.random.rand(1, 6)\n",
    "w_2"
   ]
  },
  {
   "cell_type": "markdown",
   "id": "1ad77ce5",
   "metadata": {},
   "source": [
    "### Власні значення"
   ]
  },
  {
   "cell_type": "code",
   "execution_count": 213,
   "id": "31dd86bd",
   "metadata": {},
   "outputs": [
    {
     "data": {
      "text/plain": [
       "array([[0.68161656, 0.076982  , 0.36931696, 0.7775845 , 0.73257279,\n",
       "        0.3194842 ]])"
      ]
     },
     "execution_count": 213,
     "metadata": {},
     "output_type": "execute_result"
    }
   ],
   "source": [
    "w_2 = np.array([[0.68161656, 0.076982  , 0.36931696, 0.7775845 , 0.73257279,\n",
    "        0.3194842 ]])\n",
    "\n",
    "w_2"
   ]
  },
  {
   "cell_type": "markdown",
   "id": "0ca73bc5",
   "metadata": {},
   "source": [
    "## Величини сигналів на входах А-елементів"
   ]
  },
  {
   "cell_type": "code",
   "execution_count": 214,
   "id": "7c7d1960",
   "metadata": {},
   "outputs": [
    {
     "data": {
      "text/plain": [
       "array([[5.66417399, 6.4228424 , 5.55215834, 6.46177781, 7.01949511,\n",
       "        5.09063872],\n",
       "       [6.67467142, 8.04694128, 8.47994491, 9.42944506, 9.92015382,\n",
       "        8.63168001]])"
      ]
     },
     "execution_count": 214,
     "metadata": {},
     "output_type": "execute_result"
    }
   ],
   "source": [
    "U_inp_A = out_S(letters) @ w_1.T\n",
    "U_inp_A"
   ]
  },
  {
   "cell_type": "markdown",
   "id": "b6d8d87a",
   "metadata": {},
   "source": [
    "## Для кращого розмежування 2-ох образів найбільш підходящим виявиться $\\theta = 6.5$. Крок навчання $\\eta$ прирівняємо до 0.1, як у методичці. Нехай $\\theta_{R} = 1.5$.  "
   ]
  },
  {
   "cell_type": "code",
   "execution_count": 215,
   "id": "4cf9abda",
   "metadata": {},
   "outputs": [],
   "source": [
    "theta = 6.5\n",
    "theta_R = 1.5\n",
    "eta = 0.1"
   ]
  },
  {
   "cell_type": "code",
   "execution_count": 216,
   "id": "a0b5d9e4",
   "metadata": {},
   "outputs": [],
   "source": [
    "U_out_A = sign_theta(U_inp_A, theta)"
   ]
  },
  {
   "cell_type": "code",
   "execution_count": 217,
   "id": "93e43322",
   "metadata": {},
   "outputs": [
    {
     "data": {
      "text/plain": [
       "array([[0., 0., 0., 0., 1., 0.],\n",
       "       [1., 1., 1., 1., 1., 1.]])"
      ]
     },
     "execution_count": 217,
     "metadata": {},
     "output_type": "execute_result"
    }
   ],
   "source": [
    "U_out_A"
   ]
  },
  {
   "cell_type": "code",
   "execution_count": 218,
   "id": "58ec5f61",
   "metadata": {},
   "outputs": [
    {
     "data": {
      "text/plain": [
       "array([[0.73257279],\n",
       "       [2.95755701]])"
      ]
     },
     "execution_count": 218,
     "metadata": {},
     "output_type": "execute_result"
    }
   ],
   "source": [
    "U_inp_R = U_out_A @ w_2.T\n",
    "U_inp_R"
   ]
  },
  {
   "cell_type": "markdown",
   "id": "669cf69c",
   "metadata": {},
   "source": [
    "## $\\alpha$-навчання "
   ]
  },
  {
   "cell_type": "code",
   "execution_count": 219,
   "id": "b5940502",
   "metadata": {},
   "outputs": [],
   "source": [
    "w_2_alpha = w_2.copy()"
   ]
  },
  {
   "cell_type": "code",
   "execution_count": 220,
   "id": "1d4ca0f3",
   "metadata": {},
   "outputs": [
    {
     "data": {
      "text/plain": [
       "array([[0.68161656, 0.076982  , 0.36931696, 0.7775845 , 0.73257279,\n",
       "        0.3194842 ]])"
      ]
     },
     "execution_count": 220,
     "metadata": {},
     "output_type": "execute_result"
    }
   ],
   "source": [
    "w_2_alpha"
   ]
  },
  {
   "cell_type": "code",
   "execution_count": 221,
   "id": "e8456a16",
   "metadata": {},
   "outputs": [
    {
     "name": "stdout",
     "output_type": "stream",
     "text": [
      "Навчання під номером 1\n",
      "\n",
      "Вагові коефіцієнти дорівнюють: \n",
      "\n",
      "[[ 0.58161656 -0.023018    0.26931696  0.6775845   0.73257279  0.2194842 ]]\n",
      "\n",
      "На вхід R значення дорівнюють: \n",
      "\n",
      "[[0.73257279]\n",
      " [2.45755701]]\n",
      "\n",
      "Навчання під номером 2\n",
      "\n",
      "Вагові коефіцієнти дорівнюють: \n",
      "\n",
      "[[ 0.48161656 -0.123018    0.16931696  0.5775845   0.73257279  0.1194842 ]]\n",
      "\n",
      "На вхід R значення дорівнюють: \n",
      "\n",
      "[[0.73257279]\n",
      " [1.95755701]]\n",
      "\n",
      "Навчання під номером 3\n",
      "\n",
      "Вагові коефіцієнти дорівнюють: \n",
      "\n",
      "[[ 0.38161656 -0.223018    0.06931696  0.4775845   0.73257279  0.0194842 ]]\n",
      "\n",
      "На вхід R значення дорівнюють: \n",
      "\n",
      "[[0.73257279]\n",
      " [1.45755701]]\n",
      "\n",
      "Навчання під номером 4\n",
      "\n",
      "Вагові коефіцієнти дорівнюють: \n",
      "\n",
      "[[ 0.28161656 -0.323018   -0.03068304  0.3775845   0.73257279 -0.0805158 ]]\n",
      "\n",
      "На вхід R значення дорівнюють: \n",
      "\n",
      "[[0.73257279]\n",
      " [0.95755701]]\n",
      "\n",
      "Навчання під номером 5\n",
      "\n",
      "Вагові коефіцієнти дорівнюють: \n",
      "\n",
      "[[ 0.28161656 -0.323018   -0.03068304  0.3775845   0.83257279 -0.0805158 ]]\n",
      "\n",
      "На вхід R значення дорівнюють: \n",
      "\n",
      "[[0.83257279]\n",
      " [1.05755701]]\n",
      "\n",
      "Навчання під номером 6\n",
      "\n",
      "Вагові коефіцієнти дорівнюють: \n",
      "\n",
      "[[ 0.28161656 -0.323018   -0.03068304  0.3775845   0.93257279 -0.0805158 ]]\n",
      "\n",
      "На вхід R значення дорівнюють: \n",
      "\n",
      "[[0.93257279]\n",
      " [1.15755701]]\n",
      "\n",
      "Навчання під номером 7\n",
      "\n",
      "Вагові коефіцієнти дорівнюють: \n",
      "\n",
      "[[ 0.28161656 -0.323018   -0.03068304  0.3775845   1.03257279 -0.0805158 ]]\n",
      "\n",
      "На вхід R значення дорівнюють: \n",
      "\n",
      "[[1.03257279]\n",
      " [1.25755701]]\n",
      "\n",
      "Навчання під номером 8\n",
      "\n",
      "Вагові коефіцієнти дорівнюють: \n",
      "\n",
      "[[ 0.28161656 -0.323018   -0.03068304  0.3775845   1.13257279 -0.0805158 ]]\n",
      "\n",
      "На вхід R значення дорівнюють: \n",
      "\n",
      "[[1.13257279]\n",
      " [1.35755701]]\n",
      "\n",
      "Навчання під номером 9\n",
      "\n",
      "Вагові коефіцієнти дорівнюють: \n",
      "\n",
      "[[ 0.28161656 -0.323018   -0.03068304  0.3775845   1.23257279 -0.0805158 ]]\n",
      "\n",
      "На вхід R значення дорівнюють: \n",
      "\n",
      "[[1.23257279]\n",
      " [1.45755701]]\n",
      "\n",
      "Навчання під номером 10\n",
      "\n",
      "Вагові коефіцієнти дорівнюють: \n",
      "\n",
      "[[ 0.18161656 -0.423018   -0.13068304  0.2775845   1.23257279 -0.1805158 ]]\n",
      "\n",
      "На вхід R значення дорівнюють: \n",
      "\n",
      "[[1.23257279]\n",
      " [0.95755701]]\n",
      "\n",
      "Навчання під номером 11\n",
      "\n",
      "Вагові коефіцієнти дорівнюють: \n",
      "\n",
      "[[ 0.18161656 -0.423018   -0.13068304  0.2775845   1.33257279 -0.1805158 ]]\n",
      "\n",
      "На вхід R значення дорівнюють: \n",
      "\n",
      "[[1.33257279]\n",
      " [1.05755701]]\n",
      "\n",
      "Навчання під номером 12\n",
      "\n",
      "Вагові коефіцієнти дорівнюють: \n",
      "\n",
      "[[ 0.18161656 -0.423018   -0.13068304  0.2775845   1.43257279 -0.1805158 ]]\n",
      "\n",
      "На вхід R значення дорівнюють: \n",
      "\n",
      "[[1.43257279]\n",
      " [1.15755701]]\n",
      "\n",
      "Навчання під номером 13\n",
      "\n",
      "Вагові коефіцієнти дорівнюють: \n",
      "\n",
      "[[ 0.18161656 -0.423018   -0.13068304  0.2775845   1.53257279 -0.1805158 ]]\n",
      "\n",
      "На вхід R значення дорівнюють: \n",
      "\n",
      "[[1.53257279]\n",
      " [1.25755701]]\n",
      "\n"
     ]
    }
   ],
   "source": [
    "num_of_it = 1\n",
    "while np.any(out_R(U_inp_R, theta_R) != labels):\n",
    "    print(f\"Навчання під номером {num_of_it}\", end=\"\\n\\n\")\n",
    "    \n",
    "    if out_R(U_out_A[0] @ w_2_alpha.T, theta_R) != labels[0]: \n",
    "        w_2_alpha[np.where(U_out_A[0].reshape(1, -1) == 1)] += eta\n",
    "        \n",
    "    if out_R(U_out_A[1] @ w_2_alpha.T, theta_R) != labels[1]:\n",
    "        w_2_alpha[np.where(U_out_A[1].reshape(1, -1) == 1)] -= eta\n",
    "        \n",
    "    U_inp_R = U_out_A @ w_2_alpha.T\n",
    "    \n",
    "    print(\"Вагові коефіцієнти дорівнюють: \", end=\"\\n\\n\")\n",
    "    print(w_2_alpha, end=\"\\n\\n\")\n",
    "    print(\"На вхід R значення дорівнюють: \", end=\"\\n\\n\")\n",
    "    print(U_inp_R, end=\"\\n\\n\")\n",
    "    \n",
    "    num_of_it += 1"
   ]
  },
  {
   "cell_type": "markdown",
   "id": "33f0f915",
   "metadata": {},
   "source": [
    "## $\\gamma$-навчання"
   ]
  },
  {
   "cell_type": "code",
   "execution_count": 224,
   "id": "b1d26f55",
   "metadata": {},
   "outputs": [
    {
     "data": {
      "text/plain": [
       "array([[0.73257279],\n",
       "       [2.95755701]])"
      ]
     },
     "execution_count": 224,
     "metadata": {},
     "output_type": "execute_result"
    }
   ],
   "source": [
    "U_inp_R = U_out_A @ w_2.T\n",
    "U_inp_R"
   ]
  },
  {
   "cell_type": "code",
   "execution_count": 225,
   "id": "d8073d33",
   "metadata": {},
   "outputs": [],
   "source": [
    "w_2_gamma = w_2.copy()"
   ]
  },
  {
   "cell_type": "code",
   "execution_count": 226,
   "id": "c3b5231b",
   "metadata": {},
   "outputs": [
    {
     "name": "stdout",
     "output_type": "stream",
     "text": [
      "Навчання під номером 1\n",
      "\n",
      "Вагові коефіцієнти дорівнюють: \n",
      "\n",
      "[[ 0.33161656 -0.273018    0.01931696  0.4275845   0.73257279 -0.0305158 ]]\n",
      "\n",
      "На вхід R значення дорівнюють: \n",
      "\n",
      "[[0.73257279]\n",
      " [1.20755701]]\n",
      "\n",
      "Навчання під номером 2\n",
      "\n",
      "Вагові коефіцієнти дорівнюють: \n",
      "\n",
      "[[ 0.33161656 -0.273018    0.01931696  0.4275845   0.98257279 -0.0305158 ]]\n",
      "\n",
      "На вхід R значення дорівнюють: \n",
      "\n",
      "[[0.98257279]\n",
      " [1.45755701]]\n",
      "\n",
      "Навчання під номером 3\n",
      "\n",
      "Вагові коефіцієнти дорівнюють: \n",
      "\n",
      "[[-0.01838344 -0.623018   -0.33068304  0.0775845   0.98257279 -0.3805158 ]]\n",
      "\n",
      "На вхід R значення дорівнюють: \n",
      "\n",
      "[[ 0.98257279]\n",
      " [-0.29244299]]\n",
      "\n",
      "Навчання під номером 4\n",
      "\n",
      "Вагові коефіцієнти дорівнюють: \n",
      "\n",
      "[[-0.01838344 -0.623018   -0.33068304  0.0775845   1.23257279 -0.3805158 ]]\n",
      "\n",
      "На вхід R значення дорівнюють: \n",
      "\n",
      "[[ 1.23257279]\n",
      " [-0.04244299]]\n",
      "\n",
      "Навчання під номером 5\n",
      "\n",
      "Вагові коефіцієнти дорівнюють: \n",
      "\n",
      "[[-0.01838344 -0.623018   -0.33068304  0.0775845   1.48257279 -0.3805158 ]]\n",
      "\n",
      "На вхід R значення дорівнюють: \n",
      "\n",
      "[[1.48257279]\n",
      " [0.20755701]]\n",
      "\n",
      "Навчання під номером 6\n",
      "\n",
      "Вагові коефіцієнти дорівнюють: \n",
      "\n",
      "[[-0.01838344 -0.623018   -0.33068304  0.0775845   1.73257279 -0.3805158 ]]\n",
      "\n",
      "На вхід R значення дорівнюють: \n",
      "\n",
      "[[1.73257279]\n",
      " [0.45755701]]\n",
      "\n"
     ]
    }
   ],
   "source": [
    "num_of_it = 1\n",
    "N = len(U_out_A)\n",
    "N_active = np.count_nonzero(U_out_A)\n",
    "\n",
    "while np.any(out_R(U_inp_R, theta_R) != labels):\n",
    "    print(f\"Навчання під номером {num_of_it}\", end=\"\\n\\n\")\n",
    "    \n",
    "    delta_w = np.zeros((w_2_gamma.shape[0], w_2_gamma.shape[1]))\n",
    "    delta_w[np.where(U_out_A[0].reshape(1, -1) == 1)] = eta - (N_active * eta / N)\n",
    "    delta_w[np.where(U_out_A[0].reshape(1, -1) == 0)] = -N_active * eta / N\n",
    "    \n",
    "    if out_R(U_out_A[0] @ w_2_gamma.T, theta_R) != labels[0]: \n",
    "        w_2_gamma[np.where(U_out_A[0].reshape(1, -1) == 1)] -= delta_w[np.where(U_out_A[0].reshape(1, -1) == 1)]\n",
    "        \n",
    "    if out_R(U_out_A[1] @ w_2_gamma.T, theta_R) != labels[1]:\n",
    "        w_2_gamma[np.where(U_out_A[1].reshape(1, -1) == 1)] += delta_w[np.where(U_out_A[1].reshape(1, -1) == 1)]\n",
    "        \n",
    "    U_inp_R = U_out_A @ w_2_gamma.T\n",
    "    \n",
    "    print(\"Вагові коефіцієнти дорівнюють: \", end=\"\\n\\n\")\n",
    "    print(w_2_gamma, end=\"\\n\\n\")\n",
    "    print(\"На вхід R значення дорівнюють: \", end=\"\\n\\n\")\n",
    "    print(U_inp_R, end=\"\\n\\n\")\n",
    "    \n",
    "    num_of_it += 1"
   ]
  },
  {
   "cell_type": "markdown",
   "id": "f4cb2ea9",
   "metadata": {},
   "source": [
    "## Можна бачити, що обидва підходи дозволяють вдало навчитися на представленному прикладі, хоча $\\gamma$-навчання у нашому випадку збігається швидше до потрібних для нас міток. "
   ]
  },
  {
   "cell_type": "code",
   "execution_count": null,
   "id": "8ae8257a",
   "metadata": {},
   "outputs": [],
   "source": []
  }
 ],
 "metadata": {
  "kernelspec": {
   "display_name": "Python 3 (ipykernel)",
   "language": "python",
   "name": "python3"
  },
  "language_info": {
   "codemirror_mode": {
    "name": "ipython",
    "version": 3
   },
   "file_extension": ".py",
   "mimetype": "text/x-python",
   "name": "python",
   "nbconvert_exporter": "python",
   "pygments_lexer": "ipython3",
   "version": "3.8.13"
  }
 },
 "nbformat": 4,
 "nbformat_minor": 5
}
